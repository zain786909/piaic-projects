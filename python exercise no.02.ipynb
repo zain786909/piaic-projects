{
 "cells": [
  {
   "cell_type": "code",
   "execution_count": 3,
   "metadata": {},
   "outputs": [
    {
     "name": "stdout",
     "output_type": "stream",
     "text": [
      "Hello, World\n"
     ]
    }
   ],
   "source": [
    "#Because of the quotation marks, Python identifies the greeting below as a _______ (1 word, lowercase)\n",
    "#\"Hello, World!\"\n",
    "#string\n",
    "print(\"Hello, World\")"
   ]
  },
  {
   "cell_type": "code",
   "execution_count": 6,
   "metadata": {},
   "outputs": [
    {
     "name": "stdout",
     "output_type": "stream",
     "text": [
      "PAKISTAN\n"
     ]
    }
   ],
   "source": [
    "#Because there are no quotation marks, Python identifies the set of characters below as a _______.\n",
    "#country_of_origin\n",
    "# ans variable\n",
    "country_of_origin = \"PAKISTAN\"\n",
    "print(country_of_origin)"
   ]
  },
  {
   "cell_type": "code",
   "execution_count": 7,
   "metadata": {},
   "outputs": [
    {
     "name": "stdout",
     "output_type": "stream",
     "text": [
      "Boo\n"
     ]
    }
   ],
   "source": [
    "#Assign the string \"Boo!\" to the variable scare\n",
    "scare = \"Boo\"\n",
    "print(scare)"
   ]
  },
  {
   "cell_type": "code",
   "execution_count": 8,
   "metadata": {},
   "outputs": [
    {
     "name": "stdout",
     "output_type": "stream",
     "text": [
      "Muhammad\n"
     ]
    }
   ],
   "source": [
    "#Assign your first name to a variable. You choose the variable name.\n",
    "name = \"Muhammad\"\n",
    "print(name)"
   ]
  },
  {
   "cell_type": "code",
   "execution_count": 9,
   "metadata": {},
   "outputs": [
    {
     "name": "stdout",
     "output_type": "stream",
     "text": [
      "female\n"
     ]
    }
   ],
   "source": [
    "#Assign a string to a variable. You choose the variable name and the string.\n",
    "gender = \"female\"\n",
    "print(gender)"
   ]
  },
  {
   "cell_type": "code",
   "execution_count": 10,
   "metadata": {},
   "outputs": [
    {
     "name": "stdout",
     "output_type": "stream",
     "text": [
      "Mark\n"
     ]
    }
   ],
   "source": [
    "#In the statement below, I assign a string to a variable. Using the variable, write the statement that displays the string on the screen.\n",
    "my_name = \"Mark\"\n",
    "print(my_name)"
   ]
  },
  {
   "cell_type": "code",
   "execution_count": 11,
   "metadata": {},
   "outputs": [
    {
     "name": "stdout",
     "output_type": "stream",
     "text": [
      "Islamabad\n"
     ]
    }
   ],
   "source": [
    "#Assign a string to a variable. You choose the variable name and the string. Using the variable, write a statement that displays the string on the screen.\n",
    "city = \"Islamabad\"\n",
    "print(city)"
   ]
  },
  {
   "cell_type": "code",
   "execution_count": 12,
   "metadata": {},
   "outputs": [
    {
     "name": "stdout",
     "output_type": "stream",
     "text": [
      "Hi\n"
     ]
    }
   ],
   "source": [
    "#Assign the string \"Hi\" to the variable greeting\n",
    "greeting = \"Hi\"\n",
    "print(greeting)"
   ]
  },
  {
   "cell_type": "code",
   "execution_count": 15,
   "metadata": {},
   "outputs": [
    {
     "name": "stdout",
     "output_type": "stream",
     "text": [
      "Muhammad zia ur rehman\n"
     ]
    }
   ],
   "source": [
    "# Click in the left-hand Trinket panel.\n",
    "#On line 1, assign a string of your choice to a variable of your choice. On line \n",
    "#2, tell Python to display the string, using the variable.\n",
    "name = \"Muhammad zia ur rehman\"\n",
    "print(name)"
   ]
  },
  {
   "cell_type": "code",
   "execution_count": 16,
   "metadata": {},
   "outputs": [
    {
     "name": "stdout",
     "output_type": "stream",
     "text": [
      "Muhammad\n"
     ]
    }
   ],
   "source": [
    "#Click in the left-hand Trinket panel.\n",
    "#On line 1, assign your first name to a variable. On line 2, tell Python to display your first name using that variable.\n",
    "first_name = \"Muhammad\"\n",
    "print(first_name)"
   ]
  },
  {
   "cell_type": "code",
   "execution_count": null,
   "metadata": {},
   "outputs": [],
   "source": []
  }
 ],
 "metadata": {
  "kernelspec": {
   "display_name": "Python 3",
   "language": "python",
   "name": "python3"
  },
  "language_info": {
   "codemirror_mode": {
    "name": "ipython",
    "version": 3
   },
   "file_extension": ".py",
   "mimetype": "text/x-python",
   "name": "python",
   "nbconvert_exporter": "python",
   "pygments_lexer": "ipython3",
   "version": "3.7.3"
  }
 },
 "nbformat": 4,
 "nbformat_minor": 2
}
