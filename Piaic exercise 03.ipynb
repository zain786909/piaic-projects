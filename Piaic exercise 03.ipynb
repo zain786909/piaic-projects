{
 "cells": [
  {
   "cell_type": "code",
   "execution_count": 1,
   "metadata": {},
   "outputs": [
    {
     "name": "stdout",
     "output_type": "stream",
     "text": [
      "number\n"
     ]
    }
   ],
   "source": [
    "#There are two correct answers for this one. Answer with either one. What is this?\n",
    "#100\n",
    "ans = \"number\"\n",
    "print(ans)"
   ]
  },
  {
   "cell_type": "code",
   "execution_count": 2,
   "metadata": {},
   "outputs": [
    {
     "name": "stdout",
     "output_type": "stream",
     "text": [
      "2\n"
     ]
    }
   ],
   "source": [
    "#Type the illegal character in this variable name.\n",
    "#2nd_runner_up\n",
    "ans = 2\n",
    "print(ans)"
   ]
  },
  {
   "cell_type": "code",
   "execution_count": 3,
   "metadata": {},
   "outputs": [
    {
     "name": "stdout",
     "output_type": "stream",
     "text": [
      "5\n"
     ]
    }
   ],
   "source": [
    "#Assign the number 5 to the variable players\n",
    "player = 5\n",
    "print(player)"
   ]
  },
  {
   "cell_type": "code",
   "execution_count": 5,
   "metadata": {},
   "outputs": [
    {
     "name": "stdout",
     "output_type": "stream",
     "text": [
      "12\n"
     ]
    }
   ],
   "source": [
    "#What is the value of total?\n",
    "#number = 10\n",
    "#total = number + 2\n",
    "number = 10\n",
    "total = number + 2\n",
    "print(total)"
   ]
  },
  {
   "cell_type": "code",
   "execution_count": 6,
   "metadata": {},
   "outputs": [
    {
     "name": "stdout",
     "output_type": "stream",
     "text": [
      "12\n"
     ]
    }
   ],
   "source": [
    "#Assign a number (your choice) to the variable total.\n",
    "total = 12\n",
    "print(total)"
   ]
  },
  {
   "cell_type": "code",
   "execution_count": 7,
   "metadata": {},
   "outputs": [
    {
     "name": "stdout",
     "output_type": "stream",
     "text": [
      "-1050\n"
     ]
    }
   ],
   "source": [
    "#Assign a negative integer to a variable. You choose the integer and the variable name.\n",
    "loss = -1050\n",
    "print(loss)"
   ]
  },
  {
   "cell_type": "code",
   "execution_count": 8,
   "metadata": {},
   "outputs": [
    {
     "name": "stdout",
     "output_type": "stream",
     "text": [
      "-8.087\n"
     ]
    }
   ],
   "source": [
    "#What is this (one word, lowercase)?\n",
    "#\"-8.087\"\n",
    "string = \"-8.087\"\n",
    "print(string)\n",
    "#ans is string"
   ]
  },
  {
   "cell_type": "code",
   "execution_count": 9,
   "metadata": {},
   "outputs": [
    {
     "name": "stdout",
     "output_type": "stream",
     "text": [
      "60\n"
     ]
    }
   ],
   "source": [
    "#Add two variables and assign the result to a third variable. Make up all the variable names.\n",
    "value = 20\n",
    "value_02 = 40\n",
    "total = value + value_02\n",
    "print(total)"
   ]
  },
  {
   "cell_type": "code",
   "execution_count": 11,
   "metadata": {},
   "outputs": [
    {
     "name": "stdout",
     "output_type": "stream",
     "text": [
      "25\n"
     ]
    }
   ],
   "source": [
    "#Add 5 to the variable running_total and assign the result to the same variable\n",
    "running_total = 20\n",
    "running_total = running_total + 5\n",
    "print(running_total)"
   ]
  },
  {
   "cell_type": "code",
   "execution_count": 12,
   "metadata": {},
   "outputs": [
    {
     "name": "stdout",
     "output_type": "stream",
     "text": [
      "75\n"
     ]
    }
   ],
   "source": [
    "#Click in the left-hand Trinket panel.\n",
    "#On line 1, assign the sum of two numbers to a variable. Make up the variable name and the numbers. On line \n",
    "#2, tell Python to display the sum using the variable.\n",
    "#Click the Run button    above your code. If you've coded correctly, the sum will display in the right-hand panel. \n",
    "value = 30\n",
    "value_02 = 45\n",
    "sum = value + value_02\n",
    "print(sum)"
   ]
  },
  {
   "cell_type": "code",
   "execution_count": 13,
   "metadata": {},
   "outputs": [
    {
     "name": "stdout",
     "output_type": "stream",
     "text": [
      "51.1\n"
     ]
    }
   ],
   "source": [
    "#Click in the left-hand Trinket panel.\n",
    "#I've assigned a number to a variable. On line 2, divide the variable by a number of your choice. Assign the result to a variable of your choice. On line 3, tell Python to display the result using that second variable.\n",
    "#Click the Run button    above your code.\n",
    "total = 102.20\n",
    "value = 2\n",
    "amount = total / value\n",
    "print(amount)"
   ]
  },
  {
   "cell_type": "code",
   "execution_count": null,
   "metadata": {},
   "outputs": [],
   "source": []
  }
 ],
 "metadata": {
  "kernelspec": {
   "display_name": "Python 3",
   "language": "python",
   "name": "python3"
  },
  "language_info": {
   "codemirror_mode": {
    "name": "ipython",
    "version": 3
   },
   "file_extension": ".py",
   "mimetype": "text/x-python",
   "name": "python",
   "nbconvert_exporter": "python",
   "pygments_lexer": "ipython3",
   "version": "3.7.3"
  }
 },
 "nbformat": 4,
 "nbformat_minor": 2
}
