{
 "cells": [
  {
   "cell_type": "code",
   "execution_count": 1,
   "metadata": {},
   "outputs": [
    {
     "name": "stdout",
     "output_type": "stream",
     "text": [
      "10\n"
     ]
    }
   ],
   "source": [
    "#Rewrite this so total equals 10.\n",
    "#total = \"4\" + 6\n",
    "total= 4 + 6\n",
    "print(total)"
   ]
  },
  {
   "cell_type": "code",
   "execution_count": 3,
   "metadata": {},
   "outputs": [
    {
     "name": "stdout",
     "output_type": "stream",
     "text": [
      "30\n"
     ]
    }
   ],
   "source": [
    "#What is the value of third_number?\n",
    "#first_number = 5\n",
    "#second_number = 6\n",
    "#third_number = first_number * second_number\n",
    "#my ans is 30\n",
    "first_number = 5\n",
    "second_number = 6\n",
    "third_number = first_number * second_number\n",
    "print(third_number)"
   ]
  },
  {
   "cell_type": "code",
   "execution_count": 6,
   "metadata": {},
   "outputs": [
    {
     "name": "stdout",
     "output_type": "stream",
     "text": [
      "24.0\n"
     ]
    }
   ],
   "source": [
    "#Divide 12 by the decimal .5 and assign the result to the variable outcome\n",
    "outcome = 12 / .5\n",
    "print(outcome)"
   ]
  },
  {
   "cell_type": "code",
   "execution_count": 7,
   "metadata": {},
   "outputs": [
    {
     "name": "stdout",
     "output_type": "stream",
     "text": [
      "-250\n"
     ]
    }
   ],
   "source": [
    "#Subtract one number from another and assign the result to a variable. Make up the numbers and the variable name.\n",
    "num = 1250\n",
    "num_02 = 1500\n",
    "answer = num - num_02\n",
    "print(answer)"
   ]
  },
  {
   "cell_type": "code",
   "execution_count": 9,
   "metadata": {},
   "outputs": [
    {
     "name": "stdout",
     "output_type": "stream",
     "text": [
      "3\n"
     ]
    }
   ],
   "source": [
    "#Divide one variable by another and assign the result to a third variable. Make up the variable names.\n",
    "left = 36\n",
    "right = 12\n",
    "height = left // right\n",
    "print(height)"
   ]
  },
  {
   "cell_type": "code",
   "execution_count": 10,
   "metadata": {},
   "outputs": [
    {
     "name": "stdout",
     "output_type": "stream",
     "text": [
      "1000\n"
     ]
    }
   ],
   "source": [
    "#Subtract a variable from a number and assign the result to a second variable. Make up the variable names and the number.\n",
    "sun = 2550\n",
    "light = 1550\n",
    "moon = sun - light\n",
    "print(moon)"
   ]
  },
  {
   "cell_type": "code",
   "execution_count": 13,
   "metadata": {},
   "outputs": [
    {
     "name": "stdout",
     "output_type": "stream",
     "text": [
      "225\n"
     ]
    }
   ],
   "source": [
    "#Multiply a variable by itself and assign the result to the same variable. Make up the variable name.\n",
    "grow = 15\n",
    "grow = grow * grow\n",
    "print(grow)"
   ]
  },
  {
   "cell_type": "code",
   "execution_count": 14,
   "metadata": {},
   "outputs": [
    {
     "name": "stdout",
     "output_type": "stream",
     "text": [
      "84375\n"
     ]
    }
   ],
   "source": [
    "#Multiply three numbers and assign the result to a variable. Make up the numbers and the variable name.\n",
    "a = 25\n",
    "b = 75\n",
    "c = 45\n",
    "result = a * b * c\n",
    "print(result)"
   ]
  },
  {
   "cell_type": "code",
   "execution_count": 15,
   "metadata": {},
   "outputs": [
    {
     "name": "stdout",
     "output_type": "stream",
     "text": [
      "1250\n"
     ]
    }
   ],
   "source": [
    "#In one line of code, display the result of multiplying two variables. Make up the variable names.\n",
    "line_one = 25\n",
    "line_02 = 50\n",
    "print(line_one * line_02)"
   ]
  },
  {
   "cell_type": "code",
   "execution_count": 16,
   "metadata": {},
   "outputs": [
    {
     "name": "stdout",
     "output_type": "stream",
     "text": [
      "2800\n"
     ]
    }
   ],
   "source": [
    "#Assign a number to a variable, and another number to a second variable. Multiply the two, using the variables. Assign the result to a third variable. Display the result using the third variable.\n",
    "#Click the Run button    above your code. If you've coded correctly, the result of the multiplication will display in the right-hand panel.\n",
    "value = 56\n",
    "value02 = 50\n",
    "result = value * value02\n",
    "print(result)"
   ]
  },
  {
   "cell_type": "code",
   "execution_count": 17,
   "metadata": {},
   "outputs": [
    {
     "name": "stdout",
     "output_type": "stream",
     "text": [
      "30.0\n"
     ]
    }
   ],
   "source": [
    "#In a single line of code, divide one number by another and display the result.\n",
    "#Click the Run button    above your code. If you've coded correctly, the result of the division operation will display in the right-hand panel.\n",
    "print(150/5)"
   ]
  },
  {
   "cell_type": "code",
   "execution_count": null,
   "metadata": {},
   "outputs": [],
   "source": []
  }
 ],
 "metadata": {
  "kernelspec": {
   "display_name": "Python 3",
   "language": "python",
   "name": "python3"
  },
  "language_info": {
   "codemirror_mode": {
    "name": "ipython",
    "version": 3
   },
   "file_extension": ".py",
   "mimetype": "text/x-python",
   "name": "python",
   "nbconvert_exporter": "python",
   "pygments_lexer": "ipython3",
   "version": "3.7.3"
  }
 },
 "nbformat": 4,
 "nbformat_minor": 2
}
